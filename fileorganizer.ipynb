{
 "cells": [
  {
   "cell_type": "markdown",
   "metadata": {},
   "source": [
    "Nella cartella *files* trovi 8 file:\n",
    "- 2 file di testo\n",
    "- 2 file audio\n",
    "- 4 immagini,\n",
    "\n",
    "con varie estensioni.\n",
    "\n",
    "**Step 1**\n",
    "\n",
    "Inizia creando, in un notebook, uno script Python che iteri in ordine alfabetico sui file della cartella files e, a seconda del tipo (audio, documento, immagine), li sposti nella relativa sottocartella (qui sotto trovi un esempio). Se la sottocartella non esiste, il tuo script dovrà crearla automaticamente.\n",
    "\n",
    "Durante il ciclo, lo script deve stampare le informazioni dei file: nome, tipo e dimensione in byte. Questo è l'output desiderato:"
   ]
  },
  {
   "cell_type": "code",
   "execution_count": 1,
   "metadata": {
    "tags": []
   },
   "outputs": [],
   "source": [
    "import os\n",
    "import csv \n",
    "import shutil\n",
    "\n",
    "from PIL import Image\n",
    "import numpy as np\n",
    "from tabulate import tabulate"
   ]
  },
  {
   "cell_type": "code",
   "execution_count": 2,
   "metadata": {
    "tags": []
   },
   "outputs": [],
   "source": [
    "#Set the variables"
   ]
  },
  {
   "cell_type": "code",
   "execution_count": 3,
   "metadata": {
    "tags": []
   },
   "outputs": [],
   "source": [
    "path = os.getcwd()\n",
    "if 'files' in os.listdir(path):\n",
    "    path = os.path.join(path, 'files')"
   ]
  },
  {
   "cell_type": "code",
   "execution_count": 4,
   "metadata": {
    "tags": []
   },
   "outputs": [],
   "source": [
    "type_dict = [\n",
    "    {'fold':'audio', 'f_ext': '.mp3'},\n",
    "    {'fold':'doc', 'f_ext': '.txt'},\n",
    "    {'fold':'doc', 'f_ext': '.odt'},\n",
    "    {'fold':'images', 'f_ext': '.png'},\n",
    "    {'fold':'images', 'f_ext': '.jpg'},\n",
    "    {'fold':'images', 'f_ext': '.jpeg'}\n",
    "]"
   ]
  },
  {
   "cell_type": "code",
   "execution_count": 5,
   "metadata": {
    "tags": []
   },
   "outputs": [],
   "source": [
    "dir_list = [file for file in os.listdir(path) if not file.startswith('.')]\n",
    "dir_list.sort()"
   ]
  },
  {
   "cell_type": "markdown",
   "metadata": {
    "tags": []
   },
   "source": [
    "For each file: \n",
    "\n",
    "1. check if the folder exists, otherwise create it, \n",
    "2. print the information,\n",
    "3. check if there is a file with the same name and if so, change the destination name \n",
    "4. move the file, \n",
    "5. update the recap.csv file"
   ]
  },
  {
   "cell_type": "code",
   "execution_count": 6,
   "metadata": {
    "tags": []
   },
   "outputs": [
    {
     "name": "stdout",
     "output_type": "stream",
     "text": [
      "bw type:images size: 94926B\n",
      "ciao type:doc size: 12B\n",
      "ciao2 type:doc size: 12B\n",
      "daffodil type:images size: 24657B\n",
      "eclipse type:images size: 64243B\n",
      "pippo type:doc size: 8299B\n",
      "song1 type:audio size: 1087849B\n",
      "song2 type:audio size: 764176B\n",
      "trump type:images size: 10195B\n"
     ]
    }
   ],
   "source": [
    "for file in [file for file in dir_list if os.path.isfile(os.path.join(path, file))]:\n",
    "    file_path = os.path.join(path, file)\n",
    "    \n",
    "    file_extension = os.path.splitext(file_path)[1]\n",
    "    \n",
    "    try:\n",
    "        folder = next(item for item in type_dict if item['f_ext'] == file_extension)['fold']\n",
    "    except:\n",
    "        print(\"Sorry! I can't handle the file with extension \", file_extension)\n",
    "    else:\n",
    "                \n",
    "        #check if the folder exists, otherwise create it\n",
    "        if not os.path.isdir(os.path.join(path, folder)):\n",
    "            os.makedirs(os.path.join(path, folder))\n",
    "        \n",
    "        #print the information\n",
    "        print(file.rsplit(\".\", 1)[0] + \n",
    "              \" type:\" + folder + \n",
    "              \" size: \" + str(os.path.getsize(file_path)) + \"B\")   \n",
    "        \n",
    "        file_detail = file.rsplit(\".\", 1)[0] + \",\" + folder + \",\" + str(os.path.getsize(file_path))\n",
    "    \n",
    "        #move file\n",
    "        source = os.path.join(path, file)\n",
    "        destination_folder = os.path.join(path, folder)\n",
    "        \n",
    "        #check if there is a file with the same name and if so, change the destination name\n",
    "        count = 1\n",
    "        while os.path.exists(os.path.join(destination_folder, file)):\n",
    "            file = f\"{file.rsplit('.', 1)[0]}({count}){file_extension}\"\n",
    "            count += 1\n",
    "        \n",
    "        destination = os.path.join(destination_folder, file)\n",
    "        \n",
    "        shutil.move(source, destination)\n",
    "        \n",
    "        #write detail into recap.csv\n",
    "        insert_header = False\n",
    "        if not os.path.exists(os.path.join(os.getcwd(), 'recap.csv')):\n",
    "            insert_header = True\n",
    "        \n",
    "        with open('recap.csv', 'a', newline='') as csvfile: \n",
    "            csvwriter = csv.writer(csvfile) \n",
    "            if insert_header:\n",
    "                csv_columns = ['name', 'type', 'size (B)']\n",
    "                csvwriter.writerow(csv_columns)\n",
    "            csvwriter.writerow(file_detail.split(','))"
   ]
  },
  {
   "cell_type": "markdown",
   "metadata": {},
   "source": [
    "Oltre a stamparne le informazioni via via che li sposti, tieni traccia dei file creando un documento *recap.csv* con le stesse informazioni. Trovi un esempio in questa cartella.\n",
    "\n",
    "La struttura finale della cartella files dovrà essere:\n",
    "\n",
    "        - files            \n",
    "            - audio\n",
    "                - song1.mp3\n",
    "                - song2.mp3\n",
    "            - docs\n",
    "                - ciao.txt\n",
    "                - pippo.odt\n",
    "            - images\n",
    "                - bw.png\n",
    "                - daffodil.jpg\n",
    "                - eclipse.png\n",
    "                - trump.jpeg    \n",
    "            - recap.csv\n",
    "\n",
    "Commenta il codice con i passaggi che fai. Questo vale anche per i prossimi Step.\n",
    "\n",
    "**Attenzione**: lo script, ogni volta che viene lanciato per spostare nuovi file, deve *aggiornare* (e non sovrascrivere) le sottocartelle e il file di recap. Per controllare che tutto funzioni correttamente, puoi aggiungere altri file alla cartella files e fare un test; oppure, puoi dividere gli 8 file originali in due gruppi e lasciarne uno per il test.\n",
    "\n",
    "**Consiglio**: puoi usare le librerie *os*, *shutil* e *csv*. \n",
    "                \n",
    "---"
   ]
  },
  {
   "cell_type": "markdown",
   "metadata": {},
   "source": [
    "**Step 2**\n",
    "\n",
    "Inserisci lo script che hai creato in un piccolo eseguibile (chiamalo *addfile.py* e posizionalo in questa cartella, a fianco del notebook) dotato di *interfaccia a linea di comando* (CLI).\n",
    "\n",
    "Lo scopo dell'eseguibile è spostare un *singolo* file (che si trova nella cartella files) nella sottocartella di competenza, aggiornando il recap.\n",
    "\n",
    "L'interfaccia dell'eseguibile ha come unico argomento (obbligatorio) il nome del file da spostare (comprensivo di formato, es: 'trump.jpeg'). Nel caso in cui il file passato come argomento non esista, l'interfaccia deve comunicarlo all'utente.\n",
    "\n",
    "**Consiglio**: oltre alle precedenti, puoi usare le librerie *sys* e *argparse*.\n",
    "\n",
    "---"
   ]
  },
  {
   "cell_type": "markdown",
   "metadata": {},
   "source": [
    "**Step 3**\n",
    "\n",
    "Una immagine in scala di grigio ha un solo livello di colore, una RGB ne ha 3, una RGBA 4 (l'ultimo è detto canale *alpha*).\n",
    "\n",
    "Il modulo *Image* della libreria *PIL* permette di caricare un'immagine, che può essere trasformata in un array NumPy attraverso la funzione *np.array*. A partire da tale array, è possibile capire se l'immagine caricata è in scala di grigio, RGB o RGBA.\n",
    "\n",
    "Aggiungi al notebook dello Step 1 uno script che iteri sulla sottocartella *images* e costruisca una tabella riassuntiva come questa (prodotta con la libreria *tabulate*):"
   ]
  },
  {
   "cell_type": "code",
   "execution_count": 7,
   "metadata": {
    "tags": []
   },
   "outputs": [],
   "source": [
    "table = [['name', 'height', 'width', 'grayscale', 'R','G','B', 'ALPHA']]"
   ]
  },
  {
   "cell_type": "code",
   "execution_count": 8,
   "metadata": {
    "tags": []
   },
   "outputs": [],
   "source": [
    "#Get detail about images into 'images' folder"
   ]
  },
  {
   "cell_type": "code",
   "execution_count": 9,
   "metadata": {
    "tags": []
   },
   "outputs": [],
   "source": [
    "image_path = os.path.join(path, 'images')\n",
    "image_list = os.listdir(image_path)\n",
    "image_list = [img for img in image_list if not (img.startswith('.'))]\n",
    "image_list.sort()"
   ]
  },
  {
   "cell_type": "code",
   "execution_count": 10,
   "metadata": {
    "tags": []
   },
   "outputs": [],
   "source": [
    "for img in image_list:\n",
    "    img_path = os.path.join(image_path, img)\n",
    "    \n",
    "    with Image.open(img_path) as im:\n",
    "        a = np.asarray(im)\n",
    "        grayscale, alpha = 0.0, 0.0\n",
    "        r, g, b = 0.0, 0.0, 0.0\n",
    "        \n",
    "        if len(a.shape) == 2:\n",
    "            grayscale = np.mean(a)\n",
    "        else:\n",
    "            if a.shape[2] == 4:\n",
    "                alpha = a[:, :, 3].mean()\n",
    "                \n",
    "            r = np.mean(a, axis=(0, 1))[0]\n",
    "            g = np.mean(a, axis=(0, 1))[1]\n",
    "            b = np.mean(a, axis=(0, 1))[2] \n",
    "        \n",
    "        row = [[(img.split('.')[0]), a.shape[0], a.shape[1], grayscale, r, g, b, alpha]]\n",
    "        table += row"
   ]
  },
  {
   "cell_type": "code",
   "execution_count": 11,
   "metadata": {
    "tags": []
   },
   "outputs": [
    {
     "name": "stdout",
     "output_type": "stream",
     "text": [
      "╒══════════╤══════════╤═════════╤═════════════╤════════╤════════╤═══════╤═════════╕\n",
      "│ name     │   height │   width │   grayscale │      R │      G │     B │   ALPHA │\n",
      "╞══════════╪══════════╪═════════╪═════════════╪════════╪════════╪═══════╪═════════╡\n",
      "│ bw       │      512 │     512 │       21.48 │   0.00 │   0.00 │  0.00 │    0.00 │\n",
      "├──────────┼──────────┼─────────┼─────────────┼────────┼────────┼───────┼─────────┤\n",
      "│ daffodil │      500 │     335 │        0.00 │ 109.25 │  85.56 │  4.97 │    0.00 │\n",
      "├──────────┼──────────┼─────────┼─────────────┼────────┼────────┼───────┼─────────┤\n",
      "│ eclipse  │      256 │     256 │        0.00 │ 109.05 │ 109.52 │ 39.85 │  133.59 │\n",
      "├──────────┼──────────┼─────────┼─────────────┼────────┼────────┼───────┼─────────┤\n",
      "│ trump    │      183 │     275 │        0.00 │  97.01 │  98.99 │ 90.92 │    0.00 │\n",
      "╘══════════╧══════════╧═════════╧═════════════╧════════╧════════╧═══════╧═════════╛\n"
     ]
    }
   ],
   "source": [
    "print(tabulate(table, headers=\"firstrow\", tablefmt=\"fancy_grid\", floatfmt=\".2f\"))"
   ]
  },
  {
   "cell_type": "markdown",
   "metadata": {},
   "source": [
    "Oltre al nome del file, la tabella riporta:\n",
    "\n",
    "- altezza dell'immagine, in pixel\n",
    "- larghezza dell'immagine, in pixel\n",
    "- se l'immagine è in scala di grigio, la colonna *grayscale* indica la media dei valori dell'unico livello di colore\n",
    "- se l'immagine è a colori, le altre colonne indicano la media dei valori di ogni livello di colore.\n",
    "\n",
    "---"
   ]
  },
  {
   "cell_type": "markdown",
   "metadata": {},
   "source": [
    "**Dovrai consegnare**:\n",
    "- un notebook con gli Step 1 e 3; per semplicità puoi chiamarlo come questo\n",
    "- addfile.py con quanto richiesto dallo Step 2."
   ]
  }
 ],
 "metadata": {
  "kernelspec": {
   "display_name": "Python 3 (ipykernel)",
   "language": "python",
   "name": "python3"
  },
  "language_info": {
   "codemirror_mode": {
    "name": "ipython",
    "version": 3
   },
   "file_extension": ".py",
   "mimetype": "text/x-python",
   "name": "python",
   "nbconvert_exporter": "python",
   "pygments_lexer": "ipython3",
   "version": "3.9.18"
  }
 },
 "nbformat": 4,
 "nbformat_minor": 4
}
